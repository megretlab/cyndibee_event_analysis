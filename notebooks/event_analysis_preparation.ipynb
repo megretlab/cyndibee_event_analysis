{
 "cells": [
  {
   "cell_type": "markdown",
   "metadata": {},
   "source": [
    "# Event analysis preparation"
   ]
  },
  {
   "cell_type": "markdown",
   "metadata": {},
   "source": [
    "Notebook to convert Jeffrey's plotbee files /mnt/storage/work/jchan/final_beepose/one_week_analysis_800/analysis_tracks*\n",
    "into a single dataframe"
   ]
  },
  {
   "cell_type": "code",
   "execution_count": 1,
   "metadata": {},
   "outputs": [],
   "source": [
    "%load_ext autoreload\n",
    "%autoreload 2"
   ]
  },
  {
   "cell_type": "code",
   "execution_count": 2,
   "metadata": {},
   "outputs": [],
   "source": [
    "%matplotlib inline"
   ]
  },
  {
   "cell_type": "code",
   "execution_count": 3,
   "metadata": {},
   "outputs": [],
   "source": [
    "#%matplotlib inline\n",
    "import pandas as pd\n",
    "import matplotlib.pyplot as plt\n",
    "import numpy as np\n",
    "import seaborn as sns\n",
    "import glob\n",
    "from datetime import datetime, timedelta\n",
    "# from ipywidgets import interact\n",
    "# from datetime import datetime as dt, time, timedelta"
   ]
  },
  {
   "cell_type": "code",
   "execution_count": 4,
   "metadata": {},
   "outputs": [],
   "source": [
    "import sys\n",
    "import os\n",
    "from os.path import join\n",
    "import re\n",
    "#import cv2\n",
    "\n",
    "from tqdm.notebook import tqdm"
   ]
  },
  {
   "cell_type": "markdown",
   "metadata": {},
   "source": [
    "### Load raw files one by one to generate an event dataset"
   ]
  },
  {
   "cell_type": "code",
   "execution_count": 5,
   "metadata": {},
   "outputs": [],
   "source": [
    "def get_video_date(filename):\n",
    "    pattern  = r\"C(?P<colony>[0-9][0-9])_(?P<year>[0-9][0-9])(?P<month>[0-9][0-9])(?P<day>[0-9][0-9])(?P<hour>[0-9][0-9])(?P<min>[0-9][0-9])(?P<sec>[0-9][0-9])\"\n",
    "    pattern = re.compile(pattern)\n",
    "    m = pattern.search(filename)\n",
    "    date_format = [\"year\", \"month\", \"day\", \"hour\", \"min\", \"sec\"]\n",
    "\n",
    "    YY,MM,DD,hh,mm,ss=[int(m.group(g)) for g in date_format]\n",
    "    return datetime(2000+YY,MM,DD,hh,mm,ss)\n",
    "\n",
    "def one_hot_encoding(df, columns=[]):\n",
    "    cdf = df.copy()\n",
    "    if isinstance(columns, list):\n",
    "        for c in columns:\n",
    "            cdf = one_hot_encode_column(cdf, c)\n",
    "    elif isinstance(columns, str):\n",
    "        cdf = one_hot_encode_column(cdf, columns)\n",
    "    return cdf\n",
    "  \n",
    "def one_hot_encode_column(df, column):\n",
    "    categories = df[column].dropna().unique()\n",
    "    for cat in categories:\n",
    "        df[cat] = (df[column] == cat)\n",
    "    return df\n",
    "\n",
    "def load_track_df(filename):\n",
    "    track_df = pd.read_csv(filename)\n",
    "    starttime = get_video_date(filename)\n",
    "    track_df[\"datetime\"] = track_df.apply(lambda x: starttime + timedelta(seconds=x[\"track_startframe\"]/20), axis=1)\n",
    "    track_df[\"track_starttime\"] = track_df.apply(lambda x: starttime + timedelta(seconds=x[\"track_startframe\"]/20), axis=1)\n",
    "    track_df[\"track_endtime\"] = track_df.apply(lambda x: starttime + timedelta(seconds=x[\"track_endframe\"]/20), axis=1)\n",
    "    track_df[\"pollen\"] = track_df[\"track_pollen_score\"] > 0.5\n",
    "    track_df = one_hot_encoding(track_df, columns=[\"track_event\"])\n",
    "    return track_df"
   ]
  },
  {
   "cell_type": "code",
   "execution_count": 8,
   "metadata": {},
   "outputs": [],
   "source": [
    "# List all JSON files to load\n",
    "files = glob.glob(\"/mnt/storage/work/jchan/final_beepose/one_week_analysis_800/analysis_tracks*\")\n",
    "files = sorted(files)\n",
    "files;"
   ]
  },
  {
   "cell_type": "code",
   "execution_count": 9,
   "metadata": {},
   "outputs": [
    {
     "data": {
      "application/vnd.jupyter.widget-view+json": {
       "model_id": "298c8e00a1244d47b5d933a2ed2cb28a",
       "version_major": 2,
       "version_minor": 0
      },
      "text/plain": [
       "HBox(children=(HTML(value=''), FloatProgress(value=0.0, max=80.0), HTML(value='')))"
      ]
     },
     "metadata": {},
     "output_type": "display_data"
    },
    {
     "name": "stdout",
     "output_type": "stream",
     "text": [
      "\n"
     ]
    }
   ],
   "source": [
    "track_dfs = list()\n",
    "for i, file in enumerate(tqdm(files)):\n",
    "    track_df = load_track_df(file)\n",
    "    track_df[\"video_seq\"] = i\n",
    "    track_dfs.append(track_df)\n",
    "    \n",
    "full_df = pd.concat(track_dfs).reset_index() # Important must have unique indices!"
   ]
  },
  {
   "cell_type": "code",
   "execution_count": 43,
   "metadata": {},
   "outputs": [],
   "source": [
    "# Add path to video (custom)\n",
    "FILE_PATTERN = \"/mnt/storage/work/jchan/bees/tag_dataset/videos/C02_%y%m%d%H0000.mp4\"\n",
    "NAME_PATTERN = \"C02_%y%m%d%H0000.mp4\"\n",
    "full_df.loc[:, \"video_filename\"] = full_df.datetime.apply(lambda x: x.strftime(FILE_PATTERN))\n",
    "full_df.loc[:, \"video_name\"] = full_df.datetime.apply(lambda x: x.strftime(NAME_PATTERN))\n",
    "# Warning: video_id is not the id in labelbee database! Just local id for processing the current dataset\n",
    "# Which is why we store the full video file name along"
   ]
  },
  {
   "cell_type": "code",
   "execution_count": 51,
   "metadata": {},
   "outputs": [
    {
     "data": {
      "text/plain": [
       "Index(['track_id', 'track_pollen_score', 'track_shape', 'track_event',\n",
       "       'track_tagid', 'track_hastag', 'track_startframe', 'track_startx',\n",
       "       'track_starty', 'track_starta', 'track_endframe', 'track_endx',\n",
       "       'track_endy', 'track_enda', 'track_length', 'datetime',\n",
       "       'track_starttime', 'track_endtime', 'pollen', 'entering', 'leaving',\n",
       "       'entering_leaving', 'walking', 'video_name', 'labelbee_videoid',\n",
       "       'video_filename', 'video_seq'],\n",
       "      dtype='object')"
      ]
     },
     "execution_count": 51,
     "metadata": {},
     "output_type": "execute_result"
    }
   ],
   "source": [
    "#full_df=full_df.drop('index', axis=1)\n",
    "#full_df['video_seq'] = full_df['video_id']\n",
    "full_df=full_df.drop('file_name', axis=1)\n",
    "full_df.columns"
   ]
  },
  {
   "cell_type": "code",
   "execution_count": 52,
   "metadata": {},
   "outputs": [
    {
     "data": {
      "text/html": [
       "<div>\n",
       "<style scoped>\n",
       "    .dataframe tbody tr th:only-of-type {\n",
       "        vertical-align: middle;\n",
       "    }\n",
       "\n",
       "    .dataframe tbody tr th {\n",
       "        vertical-align: top;\n",
       "    }\n",
       "\n",
       "    .dataframe thead th {\n",
       "        text-align: right;\n",
       "    }\n",
       "</style>\n",
       "<table border=\"1\" class=\"dataframe\">\n",
       "  <thead>\n",
       "    <tr style=\"text-align: right;\">\n",
       "      <th></th>\n",
       "      <th>track_id</th>\n",
       "      <th>track_pollen_score</th>\n",
       "      <th>track_shape</th>\n",
       "      <th>track_event</th>\n",
       "      <th>track_tagid</th>\n",
       "      <th>track_hastag</th>\n",
       "      <th>track_startframe</th>\n",
       "      <th>track_startx</th>\n",
       "      <th>track_starty</th>\n",
       "      <th>track_starta</th>\n",
       "      <th>...</th>\n",
       "      <th>track_endtime</th>\n",
       "      <th>pollen</th>\n",
       "      <th>entering</th>\n",
       "      <th>leaving</th>\n",
       "      <th>entering_leaving</th>\n",
       "      <th>walking</th>\n",
       "      <th>video_name</th>\n",
       "      <th>labelbee_videoid</th>\n",
       "      <th>video_filename</th>\n",
       "      <th>video_seq</th>\n",
       "    </tr>\n",
       "  </thead>\n",
       "  <tbody>\n",
       "    <tr>\n",
       "      <th>0</th>\n",
       "      <td>0</td>\n",
       "      <td>0.008814</td>\n",
       "      <td>inside</td>\n",
       "      <td>None</td>\n",
       "      <td>NaN</td>\n",
       "      <td>False</td>\n",
       "      <td>0</td>\n",
       "      <td>604</td>\n",
       "      <td>192</td>\n",
       "      <td>37.405357</td>\n",
       "      <td>...</td>\n",
       "      <td>2017-06-21 08:00:03.900</td>\n",
       "      <td>False</td>\n",
       "      <td>False</td>\n",
       "      <td>False</td>\n",
       "      <td>False</td>\n",
       "      <td>False</td>\n",
       "      <td>C02_170621080000.mp4</td>\n",
       "      <td>80</td>\n",
       "      <td>/mnt/storage/work/jchan/bees/tag_dataset/video...</td>\n",
       "      <td>0</td>\n",
       "    </tr>\n",
       "    <tr>\n",
       "      <th>1</th>\n",
       "      <td>1</td>\n",
       "      <td>0.035165</td>\n",
       "      <td>ramp-inside</td>\n",
       "      <td>None</td>\n",
       "      <td>NaN</td>\n",
       "      <td>False</td>\n",
       "      <td>0</td>\n",
       "      <td>1856</td>\n",
       "      <td>704</td>\n",
       "      <td>25.866357</td>\n",
       "      <td>...</td>\n",
       "      <td>2017-06-21 08:00:10.100</td>\n",
       "      <td>False</td>\n",
       "      <td>False</td>\n",
       "      <td>False</td>\n",
       "      <td>False</td>\n",
       "      <td>False</td>\n",
       "      <td>C02_170621080000.mp4</td>\n",
       "      <td>80</td>\n",
       "      <td>/mnt/storage/work/jchan/bees/tag_dataset/video...</td>\n",
       "      <td>0</td>\n",
       "    </tr>\n",
       "    <tr>\n",
       "      <th>2</th>\n",
       "      <td>2</td>\n",
       "      <td>0.068826</td>\n",
       "      <td>outside_inside</td>\n",
       "      <td>entering</td>\n",
       "      <td>NaN</td>\n",
       "      <td>False</td>\n",
       "      <td>0</td>\n",
       "      <td>1960</td>\n",
       "      <td>924</td>\n",
       "      <td>271.332220</td>\n",
       "      <td>...</td>\n",
       "      <td>2017-06-21 08:00:01.550</td>\n",
       "      <td>False</td>\n",
       "      <td>True</td>\n",
       "      <td>False</td>\n",
       "      <td>False</td>\n",
       "      <td>False</td>\n",
       "      <td>C02_170621080000.mp4</td>\n",
       "      <td>80</td>\n",
       "      <td>/mnt/storage/work/jchan/bees/tag_dataset/video...</td>\n",
       "      <td>0</td>\n",
       "    </tr>\n",
       "    <tr>\n",
       "      <th>3</th>\n",
       "      <td>3</td>\n",
       "      <td>0.000026</td>\n",
       "      <td>inside</td>\n",
       "      <td>None</td>\n",
       "      <td>NaN</td>\n",
       "      <td>False</td>\n",
       "      <td>0</td>\n",
       "      <td>1632</td>\n",
       "      <td>256</td>\n",
       "      <td>344.875993</td>\n",
       "      <td>...</td>\n",
       "      <td>2017-06-21 08:00:11.500</td>\n",
       "      <td>False</td>\n",
       "      <td>False</td>\n",
       "      <td>False</td>\n",
       "      <td>False</td>\n",
       "      <td>False</td>\n",
       "      <td>C02_170621080000.mp4</td>\n",
       "      <td>80</td>\n",
       "      <td>/mnt/storage/work/jchan/bees/tag_dataset/video...</td>\n",
       "      <td>0</td>\n",
       "    </tr>\n",
       "    <tr>\n",
       "      <th>4</th>\n",
       "      <td>4</td>\n",
       "      <td>0.015290</td>\n",
       "      <td>ramp_ramp</td>\n",
       "      <td>None</td>\n",
       "      <td>NaN</td>\n",
       "      <td>False</td>\n",
       "      <td>0</td>\n",
       "      <td>888</td>\n",
       "      <td>312</td>\n",
       "      <td>320.826342</td>\n",
       "      <td>...</td>\n",
       "      <td>2017-06-21 08:00:05.200</td>\n",
       "      <td>False</td>\n",
       "      <td>False</td>\n",
       "      <td>False</td>\n",
       "      <td>False</td>\n",
       "      <td>False</td>\n",
       "      <td>C02_170621080000.mp4</td>\n",
       "      <td>80</td>\n",
       "      <td>/mnt/storage/work/jchan/bees/tag_dataset/video...</td>\n",
       "      <td>0</td>\n",
       "    </tr>\n",
       "  </tbody>\n",
       "</table>\n",
       "<p>5 rows × 27 columns</p>\n",
       "</div>"
      ],
      "text/plain": [
       "   track_id  track_pollen_score     track_shape track_event  track_tagid  \\\n",
       "0         0            0.008814          inside        None          NaN   \n",
       "1         1            0.035165     ramp-inside        None          NaN   \n",
       "2         2            0.068826  outside_inside    entering          NaN   \n",
       "3         3            0.000026          inside        None          NaN   \n",
       "4         4            0.015290       ramp_ramp        None          NaN   \n",
       "\n",
       "   track_hastag  track_startframe  track_startx  track_starty  track_starta  \\\n",
       "0         False                 0           604           192     37.405357   \n",
       "1         False                 0          1856           704     25.866357   \n",
       "2         False                 0          1960           924    271.332220   \n",
       "3         False                 0          1632           256    344.875993   \n",
       "4         False                 0           888           312    320.826342   \n",
       "\n",
       "   ...           track_endtime  pollen  entering  leaving  entering_leaving  \\\n",
       "0  ... 2017-06-21 08:00:03.900   False     False    False             False   \n",
       "1  ... 2017-06-21 08:00:10.100   False     False    False             False   \n",
       "2  ... 2017-06-21 08:00:01.550   False      True    False             False   \n",
       "3  ... 2017-06-21 08:00:11.500   False     False    False             False   \n",
       "4  ... 2017-06-21 08:00:05.200   False     False    False             False   \n",
       "\n",
       "  walking            video_name labelbee_videoid  \\\n",
       "0   False  C02_170621080000.mp4               80   \n",
       "1   False  C02_170621080000.mp4               80   \n",
       "2   False  C02_170621080000.mp4               80   \n",
       "3   False  C02_170621080000.mp4               80   \n",
       "4   False  C02_170621080000.mp4               80   \n",
       "\n",
       "                                      video_filename  video_seq  \n",
       "0  /mnt/storage/work/jchan/bees/tag_dataset/video...          0  \n",
       "1  /mnt/storage/work/jchan/bees/tag_dataset/video...          0  \n",
       "2  /mnt/storage/work/jchan/bees/tag_dataset/video...          0  \n",
       "3  /mnt/storage/work/jchan/bees/tag_dataset/video...          0  \n",
       "4  /mnt/storage/work/jchan/bees/tag_dataset/video...          0  \n",
       "\n",
       "[5 rows x 27 columns]"
      ]
     },
     "execution_count": 52,
     "metadata": {},
     "output_type": "execute_result"
    }
   ],
   "source": [
    "full_df.head()"
   ]
  },
  {
   "cell_type": "code",
   "execution_count": 64,
   "metadata": {},
   "outputs": [],
   "source": [
    "# Get labelbee database info\n",
    "labelbee_df = pd.read_csv('/mnt/storage/Gurabo/datasets/gurabo1/labelbee_videolist_gurabo1.csv')\n",
    "\n",
    "# Transform the dataframe into a mapping series  file_name => labelbee_videoid\n",
    "labelbee_mapping = labelbee_df.set_index('file_name')['id']\n",
    "\n",
    "# Apply the mapping\n",
    "full_df['labelbee_videoid'] = full_df['video_name'].map(labelbee_mapping)"
   ]
  },
  {
   "cell_type": "code",
   "execution_count": 66,
   "metadata": {},
   "outputs": [
    {
     "data": {
      "text/plain": [
       "file_name\n",
       "C01_180102140000.mp4    10859\n",
       "C01_171120095841.mp4    10860\n",
       "C01_170824080000.mp4    10861\n",
       "C02_170622010000.mp4    10862\n",
       "C01_170815160000.mp4    10863\n",
       "                        ...  \n",
       "C01_180514060000.mp4    16360\n",
       "C01_180406190000.mp4    16361\n",
       "C02_170504200000.mp4    16362\n",
       "C01_180515170000.mp4    16363\n",
       "C02_170727070000.mp4    16364\n",
       "Name: id, Length: 5506, dtype: int64"
      ]
     },
     "execution_count": 66,
     "metadata": {},
     "output_type": "execute_result"
    }
   ],
   "source": [
    "labelbee_mapping"
   ]
  },
  {
   "cell_type": "code",
   "execution_count": 65,
   "metadata": {},
   "outputs": [],
   "source": [
    "# Save full dataset into a single file\n",
    "full_df.to_parquet('one_week_analysis_800__tracks__with_labelbee_videoid.parquet')"
   ]
  },
  {
   "cell_type": "code",
   "execution_count": 55,
   "metadata": {},
   "outputs": [
    {
     "name": "stdout",
     "output_type": "stream",
     "text": [
      "-rw-rw-r-- 1 rmegret rmegret 80M Mar 12 17:36 one_week_analysis_800__tracks.parquet\n",
      "-rw-rw-r-- 1 rmegret rmegret 76M Mar 20 11:04 one_week_analysis_800__tracks__with_labelbee_videoid.parquet\n",
      "-rw-rw-r-- 1 rmegret rmegret 80M Mar 18 23:02 one_week_analysis_800__tracks__with_video_names.parquet\n"
     ]
    }
   ],
   "source": [
    "!ls -hl one_week_analysis_800*.parquet"
   ]
  },
  {
   "cell_type": "markdown",
   "metadata": {},
   "source": [
    "### Bulk load"
   ]
  },
  {
   "cell_type": "code",
   "execution_count": 56,
   "metadata": {},
   "outputs": [],
   "source": [
    "full_df = pd.read_parquet('one_week_analysis_800__tracks__with_labelbee_videoid.parquet')"
   ]
  },
  {
   "cell_type": "code",
   "execution_count": 57,
   "metadata": {},
   "outputs": [
    {
     "name": "stdout",
     "output_type": "stream",
     "text": [
      "<class 'pandas.core.frame.DataFrame'>\n",
      "RangeIndex: 1958893 entries, 0 to 1958892\n",
      "Data columns (total 27 columns):\n",
      " #   Column              Dtype         \n",
      "---  ------              -----         \n",
      " 0   track_id            int64         \n",
      " 1   track_pollen_score  float64       \n",
      " 2   track_shape         object        \n",
      " 3   track_event         object        \n",
      " 4   track_tagid         float64       \n",
      " 5   track_hastag        bool          \n",
      " 6   track_startframe    int64         \n",
      " 7   track_startx        int64         \n",
      " 8   track_starty        int64         \n",
      " 9   track_starta        float64       \n",
      " 10  track_endframe      int64         \n",
      " 11  track_endx          int64         \n",
      " 12  track_endy          int64         \n",
      " 13  track_enda          float64       \n",
      " 14  track_length        int64         \n",
      " 15  datetime            datetime64[ns]\n",
      " 16  track_starttime     datetime64[ns]\n",
      " 17  track_endtime       datetime64[ns]\n",
      " 18  pollen              bool          \n",
      " 19  entering            bool          \n",
      " 20  leaving             bool          \n",
      " 21  entering_leaving    bool          \n",
      " 22  walking             bool          \n",
      " 23  video_name          object        \n",
      " 24  labelbee_videoid    float64       \n",
      " 25  video_filename      object        \n",
      " 26  video_seq           int64         \n",
      "dtypes: bool(6), datetime64[ns](3), float64(5), int64(9), object(4)\n",
      "memory usage: 325.1+ MB\n"
     ]
    }
   ],
   "source": [
    "full_df.info()"
   ]
  },
  {
   "cell_type": "markdown",
   "metadata": {},
   "source": [
    "# Statistics about the dataset"
   ]
  },
  {
   "cell_type": "code",
   "execution_count": 38,
   "metadata": {},
   "outputs": [
    {
     "data": {
      "text/plain": [
       "1958893"
      ]
     },
     "execution_count": 38,
     "metadata": {},
     "output_type": "execute_result"
    }
   ],
   "source": [
    "full_df.shape[0]"
   ]
  },
  {
   "cell_type": "code",
   "execution_count": 35,
   "metadata": {},
   "outputs": [
    {
     "data": {
      "text/plain": [
       "{1: [1974, 2481, 3, 1218, 1142, 2122, 1907, 1962, 155, 2230, 440, 2238, 212, 2262, 2286, 2138, 1951, 1930, 380, 1418, 1454, 1514, 1238, 1582, 1739, 232, 1350, 283, 2265, 1802, 1234, 1854, 1866, 1730, 1567, 287, 3006, 787, 831, 859, 2918, 1627, 64, 2938, 2990, 1039, 739, 1139, 1147, 1151, 1327, 1367, 1387, 2237, 2205, 775, 2774, 319, 467, 2398, 359, 1423, 407, 427, 2502, 962, 455, 2538, 707, 200, 2570, 2578, 2594, 2602, 583, 2666, 2738, 371, 2775, 2991, 2947, 2460, 2464, 2508, 2552, 2993, 2592, 2640, 2700, 928, 2716, 2768, 757, 2820, 781, 2884, 857, 873, 881, 2972, ...], 2: [444, 1432, 1425, 71, 60, 989, 921, 1914, 410, 1643, 2969, 2603, 1562, 2930, 2641, 2899, 249, 2248, 1047, 1156], 3: [1420, 2048, 2855, 2759, 2086, 611, 2444, 912], 4: [578, 397], 5: [986, 2258, 1979], 6: [1109], 7: [661], 12: [677], 15: [930], 16: [1651], 18: [1404], 21: [1415], 27: [1786], 41: [2487], 52: [515], 60: [508], 65: [1722, 1652], 67: [197], 87: [1361], 99: [516], 101: [1900], 109: [638], 142: [1237], 169: [1621], 171: [1609], 175: [1780], 196: [1797], 219: [517], 446: [1698], 566: [1230], 805: [1407], 1252: [1607]}"
      ]
     },
     "execution_count": 35,
     "metadata": {},
     "output_type": "execute_result"
    }
   ],
   "source": [
    "id_counts = full_df['track_tagid'].dropna().astype(int).value_counts().rename('counts')\n",
    "id_counts.index.groupby(id_counts)"
   ]
  },
  {
   "cell_type": "code",
   "execution_count": 92,
   "metadata": {},
   "outputs": [
    {
     "data": {
      "text/plain": [
       "array([ 197,  508,  515,  516,  517,  638,  661,  677,  930,  986, 1109,\n",
       "       1230, 1237, 1361, 1404, 1407, 1415, 1607, 1609, 1621, 1651, 1652,\n",
       "       1698, 1722, 1780, 1786, 1797, 1900, 1979, 2258, 2487])"
      ]
     },
     "execution_count": 92,
     "metadata": {},
     "output_type": "execute_result"
    }
   ],
   "source": [
    "# Select tag ids that have 5 events or more\n",
    "id_counts = full_df['track_tagid'].dropna().astype(int).value_counts().rename('counts')\n",
    "tids = id_counts[id_counts>=5].index\n",
    "tids = np.sort(tids).astype(int)\n",
    "tids"
   ]
  }
 ],
 "metadata": {
  "kernelspec": {
   "display_name": "videomgr",
   "language": "python",
   "name": "videomgr"
  },
  "language_info": {
   "codemirror_mode": {
    "name": "ipython",
    "version": 3
   },
   "file_extension": ".py",
   "mimetype": "text/x-python",
   "name": "python",
   "nbconvert_exporter": "python",
   "pygments_lexer": "ipython3",
   "version": "3.7.7"
  },
  "toc-autonumbering": true,
  "toc-showcode": false,
  "toc-showmarkdowntxt": false,
  "toc-showtags": true
 },
 "nbformat": 4,
 "nbformat_minor": 4
}
