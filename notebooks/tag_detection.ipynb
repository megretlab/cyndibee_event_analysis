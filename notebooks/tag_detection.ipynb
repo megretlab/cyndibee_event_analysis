{
 "cells": [
  {
   "cell_type": "code",
   "execution_count": null,
   "id": "democratic-warning",
   "metadata": {},
   "outputs": [],
   "source": [
    "from plotbee.video import Video"
   ]
  },
  {
   "cell_type": "code",
   "execution_count": null,
   "id": "charming-basin",
   "metadata": {},
   "outputs": [],
   "source": [
    "video = Video.load(\"../data/C02_170622120000_skeleton.json\")\n",
    "video.load_video(\"../data/C02_170622120000.mp4\")"
   ]
  },
  {
   "cell_type": "code",
   "execution_count": null,
   "id": "fresh-invasion",
   "metadata": {},
   "outputs": [],
   "source": [
    "video.tag_detection()"
   ]
  }
 ],
 "metadata": {
  "kernelspec": {
   "display_name": "Python 3",
   "language": "python",
   "name": "python3"
  },
  "language_info": {
   "codemirror_mode": {
    "name": "ipython",
    "version": 3
   },
   "file_extension": ".py",
   "mimetype": "text/x-python",
   "name": "python",
   "nbconvert_exporter": "python",
   "pygments_lexer": "ipython3",
   "version": "3.8.3"
  }
 },
 "nbformat": 4,
 "nbformat_minor": 5
}
