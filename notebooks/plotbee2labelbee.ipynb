{
 "cells": [
  {
   "cell_type": "code",
   "execution_count": 1,
   "id": "attached-halloween",
   "metadata": {},
   "outputs": [],
   "source": [
    "from plotbee.video import Video\n",
    "from plotbee.utils import save_json\n",
    "import numpy as np"
   ]
  },
  {
   "cell_type": "code",
   "execution_count": 24,
   "id": "moving-folks",
   "metadata": {},
   "outputs": [
    {
     "name": "stderr",
     "output_type": "stream",
     "text": [
      "100%|██████████| 72007/72007 [00:27<00:00, 2631.27it/s] \n"
     ]
    }
   ],
   "source": [
    "# video = Video.load(\"/mnt/storage/work/jchan/final_beepose/one_week_data/tags_skeleton_merged_C02_170622120000_fine_new.json\")\n",
    "# \"/mnt/storage/work/jchan/gurabo10/detections/col02/hungarian_tag_10_02_R_190717140000_skeleton.json\"\n",
    "# video = Video.load(\"/mnt/storage/work/jchan/gurabo10/detections/col08/hungarian_tag_10_02_R_190718140000_skeleton.json\")\n",
    "video = Video.load(\"/mnt/storage/work/jchan/gurabo10/detections/col02/hungarian_tag_10_02_R_190717140000_skeleton.json\")"
   ]
  },
  {
   "cell_type": "code",
   "execution_count": 25,
   "id": "seventh-spouse",
   "metadata": {},
   "outputs": [
    {
     "data": {
      "text/plain": [
       "{'_parts': {1: [(2152, 284)],\n",
       "  2: [(2152, 480)],\n",
       "  3: [(2152, 336)],\n",
       "  4: [(2136, 712)]},\n",
       " '_center_part': 3,\n",
       " '_connections': [[1, 3], [3, 2], [2, 4]],\n",
       " '_frame': Frame: 1000\n",
       " Body(id=272, parts={1: [(1472, 220)], 2: [(1480, 416)], 3: [(1476, 284)], 4: [(1504, 608)])\n",
       " Body(id=266, parts={1: [(2152, 284)], 2: [(2152, 480)], 3: [(2152, 336)], 4: [(2136, 712)])\n",
       " Body(id=273, parts={1: [(1544, 632)], 2: [(1612, 836)], 3: [(1572, 700)], 4: [(1620, 1012)])\n",
       " Body(id=251, parts={1: [(1980, 428)], 2: [(1788, 340)], 3: [(1920, 404)], 4: [(1576, 316)])\n",
       " Body(id=268, parts={1: [(720, 928)], 2: [(676, 756)], 3: [(700, 868)], 4: [(568, 516)])\n",
       " Body(id=265, parts={1: [(600, 892)], 2: [(508, 1088)], 3: [(568, 956)], 4: [(468, 1248)])\n",
       " Body(id=276, parts={1: [(1880, 676)], 2: [(1856, 884)], 3: [(1872, 740)], 4: [(1824, 1080)]),\n",
       " '_id': 266,\n",
       " '_angle_conn': (1, 3),\n",
       " '_prev': Body(id=266, parts={1: [(2112, 296)], 2: [(2116, 508)], 3: [(2112, 360)], 4: [(2128, 736)]),\n",
       " '_next': Body(id=266, parts={1: [(2148, 272)], 2: [(2152, 476)], 3: [(2148, 328)], 4: [(2144, 728)]),\n",
       " 'suppressed': False,\n",
       " 'pollen_score': 0.0,\n",
       " 'tag': None,\n",
       " 'features': array(None, dtype=object),\n",
       " 'virtual': False,\n",
       " '_annotations': {},\n",
       " '_metadata': {}}"
      ]
     },
     "execution_count": 25,
     "metadata": {},
     "output_type": "execute_result"
    }
   ],
   "source": [
    "video[1000][1].__dict__"
   ]
  },
  {
   "cell_type": "code",
   "execution_count": 14,
   "id": "ceramic-genre",
   "metadata": {},
   "outputs": [],
   "source": [
    "video.load_video(\"/mnt/storage/Gurabo/datasets/gurabo10/mp4/col08/10_02_R_190718140000.mp4\")"
   ]
  },
  {
   "cell_type": "code",
   "execution_count": 15,
   "id": "static-guess",
   "metadata": {},
   "outputs": [
    {
     "name": "stderr",
     "output_type": "stream",
     "text": [
      "100%|██████████| 71984/71984 [00:00<00:00, 163114.57it/s]\n",
      "  0%|          | 42/71984 [00:00<02:51, 419.82it/s]"
     ]
    },
    {
     "name": "stdout",
     "output_type": "stream",
     "text": [
      "Tracking...\n"
     ]
    },
    {
     "name": "stderr",
     "output_type": "stream",
     "text": [
      "100%|██████████| 71984/71984 [00:46<00:00, 1546.90it/s]\n"
     ]
    },
    {
     "name": "stdout",
     "output_type": "stream",
     "text": [
      "Convert to Track format\n"
     ]
    }
   ],
   "source": [
    "video.hungarian_tracking(max_dist=150)"
   ]
  },
  {
   "cell_type": "code",
   "execution_count": 23,
   "id": "environmental-meaning",
   "metadata": {},
   "outputs": [
    {
     "data": {
      "text/plain": [
       "50.59933933652057"
      ]
     },
     "execution_count": 23,
     "metadata": {},
     "output_type": "execute_result"
    }
   ],
   "source": [
    "video[1000][1].angle"
   ]
  },
  {
   "cell_type": "code",
   "execution_count": 20,
   "id": "separate-sydney",
   "metadata": {},
   "outputs": [],
   "source": [
    "def convert_labelbee(video):\n",
    "    labelbee_data = dict()\n",
    "    labelbee_data[\"info\"] = {\"type\":\"events-multiframe\",\n",
    "                             \"source\":\"Converted from Tracks v1 object\"}\n",
    "    labelbee_data[\"data\"] = dict()\n",
    "    for frame in video:\n",
    "        frame_anno = extract_frame_annotations(frame)\n",
    "        labelbee_data[\"data\"][frame.id] = frame_anno\n",
    "    return labelbee_data\n",
    "\n",
    "def extract_frame_annotations(frame):\n",
    "    bodies_anno = list()\n",
    "    for body in frame:\n",
    "        body_anno = extract_body_annotation(body)\n",
    "        bodies_anno.append(body_anno)\n",
    "    return bodies_anno\n",
    "\n",
    "def extract_body_annotation(body):\n",
    "    entry = dict()\n",
    "    entry[\"id\"] = body.id\n",
    "    entry[\"time\"] = body.frameid/20\n",
    "    entry[\"frame\"] = body.frameid\n",
    "    x, y = body.center\n",
    "    entry[\"x\"] = x - 136.867/2\n",
    "    entry[\"y\"] = y - 212.324/2\n",
    "    entry[\"cx\"] = x - 136.867/2\n",
    "    entry[\"cy\"] = y - 212.324/2\n",
    "    entry[\"width\"] = 136.867\n",
    "    entry[\"height\"] = 212.324\n",
    "    entry[\"angle\"] = -body.angle + 180.0\n",
    "    entry[\"notes\"] = \"\"\n",
    "    entry[\"labels\"]= \"\"\n",
    "    parts = list()\n",
    "    for pid, keypoints in body.parts.items():\n",
    "        x, y = keypoints[0]\n",
    "        parts.append({\"posFrame\":{\"x\": x, \"y\":y}, \"label\":str(pid)})\n",
    "    entry[\"parts\"] = parts\n",
    "    return entry"
   ]
  },
  {
   "cell_type": "code",
   "execution_count": 21,
   "id": "awful-cartridge",
   "metadata": {},
   "outputs": [],
   "source": [
    "short_video = video[:12000]\n",
    "labelbee_data = convert_labelbee(short_video)"
   ]
  },
  {
   "cell_type": "code",
   "execution_count": 22,
   "id": "quick-brain",
   "metadata": {},
   "outputs": [],
   "source": [
    "save_json(\"10_02_R_190718140000_labelbee_0_12000.json\", labelbee_data)"
   ]
  },
  {
   "cell_type": "code",
   "execution_count": null,
   "id": "perfect-shark",
   "metadata": {},
   "outputs": [],
   "source": []
  }
 ],
 "metadata": {
  "kernelspec": {
   "display_name": "bees",
   "language": "python",
   "name": "bees"
  },
  "language_info": {
   "codemirror_mode": {
    "name": "ipython",
    "version": 3
   },
   "file_extension": ".py",
   "mimetype": "text/x-python",
   "name": "python",
   "nbconvert_exporter": "python",
   "pygments_lexer": "ipython3",
   "version": "3.7.3"
  }
 },
 "nbformat": 4,
 "nbformat_minor": 5
}
