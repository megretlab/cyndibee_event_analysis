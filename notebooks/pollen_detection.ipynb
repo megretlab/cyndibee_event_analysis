{
 "cells": [
  {
   "cell_type": "code",
   "execution_count": 2,
   "id": "turned-plaza",
   "metadata": {},
   "outputs": [],
   "source": [
    "from plotbee.video import Video"
   ]
  },
  {
   "cell_type": "code",
   "execution_count": 3,
   "id": "cardiovascular-roommate",
   "metadata": {},
   "outputs": [
    {
     "name": "stderr",
     "output_type": "stream",
     "text": [
      "100%|██████████| 6000/6000 [00:01<00:00, 5257.87it/s]\n"
     ]
    }
   ],
   "source": [
    "video = Video.load(\"../data/C02_170622120000_skeleton.json\")\n",
    "video.load_video(\"../data/C02_170622120000.mp4\")"
   ]
  },
  {
   "cell_type": "code",
   "execution_count": 4,
   "id": "discrete-terror",
   "metadata": {},
   "outputs": [],
   "source": [
    "model_path = \"/home/irodriguez/JANELIA/src/BeeLab/2l_model_2020_angle_auto_compensated1.json\"\n",
    "weights_path = \"/home/irodriguez/JANELIA/src/BeeLab/2l_model_2020_angle_auto_compensated1.h5\""
   ]
  },
  {
   "cell_type": "code",
   "execution_count": 5,
   "id": "incident-gender",
   "metadata": {},
   "outputs": [
    {
     "name": "stderr",
     "output_type": "stream",
     "text": [
      "100%|██████████| 1500/1500 [00:00<00:00, 15148.56it/s]\n",
      "100%|██████████| 1500/1500 [00:00<00:00, 14357.43it/s]\n",
      "100%|██████████| 1500/1500 [00:00<00:00, 17867.46it/s]\n",
      "100%|██████████| 1500/1500 [00:00<00:00, 14290.45it/s]\n"
     ]
    },
    {
     "name": "stdout",
     "output_type": "stream",
     "text": [
      "[PhysicalDevice(name='/physical_device:GPU:0', device_type='GPU')] 1\n",
      "[PhysicalDevice(name='/physical_device:GPU:0', device_type='GPU')] 1[PhysicalDevice(name='/physical_device:GPU:0', device_type='GPU')][PhysicalDevice(name='/physical_device:GPU:0', device_type='GPU')]\n",
      "  00\n",
      "\n"
     ]
    },
    {
     "name": "stderr",
     "output_type": "stream",
     "text": [
      "100%|██████████| 1500/1500 [00:00<00:00, 1945.06it/s]\n",
      "100%|██████████| 1500/1500 [00:00<00:00, 1508.58it/s]\n",
      "100%|██████████| 1500/1500 [00:00<00:00, 6894.26it/s]\n",
      "100%|██████████| 1500/1500 [00:00<00:00, 6025.09it/s]\n",
      "pollen_temp/pollen_temp_0.json: 100%|██████████| 1500/1500 [03:18<00:00,  7.55it/s]\n",
      "100%|██████████| 1500/1500 [00:00<00:00, 15906.15it/s]1500 [03:18<00:03,  8.93it/s]\n",
      "pollen_temp/pollen_temp_1.json: 100%|██████████| 1500/1500 [03:22<00:00,  7.40it/s]\n",
      "100%|██████████| 1500/1500 [00:00<00:00, 12684.80it/s]1500 [03:22<00:33,  8.23it/s]\n",
      "pollen_temp/pollen_temp_3.json: 100%|██████████| 1500/1500 [04:05<00:00,  6.12it/s]\n",
      "100%|██████████| 1500/1500 [00:00<00:00, 9764.26it/s]/1500 [04:05<00:29,  4.74it/s]\n",
      "pollen_temp/pollen_temp_2.json: 100%|██████████| 1500/1500 [04:36<00:00,  5.43it/s]\n",
      "100%|██████████| 1500/1500 [00:00<00:00, 9202.73it/s]\n",
      "100%|██████████| 1500/1500 [00:00<00:00, 2092.39it/s]\n",
      "100%|██████████| 1500/1500 [00:00<00:00, 1636.42it/s]\n",
      "100%|██████████| 1500/1500 [00:00<00:00, 1568.39it/s]\n",
      "100%|██████████| 1500/1500 [00:01<00:00, 1359.17it/s]\n",
      "100%|██████████| 6000/6000 [00:00<00:00, 26376.45it/s]\n",
      "100%|██████████| 6000/6000 [00:01<00:00, 4006.00it/s] \n"
     ]
    }
   ],
   "source": [
    "video.process_pollen(model_path, weights_path)"
   ]
  },
  {
   "cell_type": "code",
   "execution_count": null,
   "id": "athletic-mandate",
   "metadata": {},
   "outputs": [],
   "source": []
  }
 ],
 "metadata": {
  "kernelspec": {
   "display_name": "bees",
   "language": "python",
   "name": "bees"
  },
  "language_info": {
   "codemirror_mode": {
    "name": "ipython",
    "version": 3
   },
   "file_extension": ".py",
   "mimetype": "text/x-python",
   "name": "python",
   "nbconvert_exporter": "python",
   "pygments_lexer": "ipython3",
   "version": "3.7.3"
  }
 },
 "nbformat": 4,
 "nbformat_minor": 5
}
